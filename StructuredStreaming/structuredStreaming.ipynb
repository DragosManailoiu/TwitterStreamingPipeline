{
 "cells": [
  {
   "cell_type": "code",
   "execution_count": 197,
   "metadata": {},
   "outputs": [],
   "source": [
    "#imports\n",
    "from IPython.display import display, clear_output\n",
    "from pyspark.sql import SparkSession\n",
    "from pyspark.sql import functions as f\n",
    "from pyspark.sql import streaming\n",
    "import pandas as pd\n",
    "import matplotlib.pyplot as plt\n",
    "import seaborn as sns\n",
    "import json\n",
    "%matplotlib inline "
   ]
  },
  {
   "cell_type": "code",
   "execution_count": 208,
   "metadata": {},
   "outputs": [],
   "source": [
    "#spark driver\n",
    "spark = SparkSession.builder.appName(\"StructuredStreamingTwitterSpark\").getOrCreate()"
   ]
  },
  {
   "cell_type": "code",
   "execution_count": 209,
   "metadata": {},
   "outputs": [],
   "source": [
    "#plot function\n",
    "def display_barplot(spark_df, x, y, time, scale=2.0, size=(16, 9)):\n",
    "    \"\"\"Displays a Spark DataFrame's contents as a bar plot.\"\"\"\n",
    "    df = spark_df.toPandas()\n",
    "    \n",
    "    # remove prior graph when new one is ready to display\n",
    "    print(f'TIME: {time}')\n",
    "    \n",
    "    # create and configure a Figure containing a Seaborn barplot \n",
    "    plt.figure(figsize=size)\n",
    "    sns.set(font_scale=scale)\n",
    "    barplot = sns.barplot(data=df, x=x, y=y, \n",
    "                          palette=sns.color_palette('cool', 20))\n",
    "    \n",
    "    # rotate the x-axis labels 90 degrees for readability\n",
    "    for item in barplot.get_xticklabels():\n",
    "        item.set_rotation(90)\n",
    "        \n",
    "    plt.tight_layout()\n",
    "    plt.show()"
   ]
  },
  {
   "cell_type": "code",
   "execution_count": 211,
   "metadata": {},
   "outputs": [],
   "source": [
    "\"\"\"EXTRACT\"\"\"\n",
    "\n",
    "#SparkStreamReader created listening on the socket \n",
    "#to which twitter is sending the tweets from\n",
    "lines = spark \\\n",
    "    .readStream \\\n",
    "    .format(\"socket\") \\\n",
    "    .option(\"host\", \"localhost\") \\\n",
    "    .option(\"port\", 9876) \\\n",
    "    .load()\n",
    "\n",
    "\"\"\"TRANSFORM\"\"\"\n",
    "\n",
    "# Split each tweet into specific rows for a given word\n",
    "words = lines.select(\n",
    "       f.explode(\n",
    "           f.split(lines.value, \"\\s+\")\n",
    "                   ).alias(\"word\")\n",
    "    )\n",
    "\n",
    "#counts the number of times a word comes up\n",
    "#filters the tweets that come in without a hashtag\n",
    "wordCounts = words.filter(f.col(\"word\") != \"\").groupBy(\"word\").count()\n",
    "\n",
    "\"\"\"LOAD\"\"\"\n",
    "\n",
    "#stores the complete dataframe into memory every 2 seconds \n",
    "stream_writer = wordCounts \\\n",
    "    .writeStream \\\n",
    "    .queryName(\"wordCounts\") \\\n",
    "    .trigger(processingTime='2 seconds') \\\n",
    "    .outputMode(\"complete\") \\\n",
    "    .format(\"memory\") \\\n",
    "\n",
    "#transforms a DataStreamWriter into StreamingQuery object\n",
    "query = stream_writer.start()"
   ]
  },
  {
   "cell_type": "code",
   "execution_count": 201,
   "metadata": {},
   "outputs": [
    {
     "name": "stdout",
     "output_type": "stream",
     "text": [
      "root\n",
      " |-- value: string (nullable = true)\n",
      "\n"
     ]
    }
   ],
   "source": [
    "lines.printSchema()"
   ]
  },
  {
   "cell_type": "code",
   "execution_count": 216,
   "metadata": {},
   "outputs": [
    {
     "data": {
      "text/html": [
       "<div>\n",
       "<style scoped>\n",
       "    .dataframe tbody tr th:only-of-type {\n",
       "        vertical-align: middle;\n",
       "    }\n",
       "\n",
       "    .dataframe tbody tr th {\n",
       "        vertical-align: top;\n",
       "    }\n",
       "\n",
       "    .dataframe thead th {\n",
       "        text-align: right;\n",
       "    }\n",
       "</style>\n",
       "<table border=\"1\" class=\"dataframe\">\n",
       "  <thead>\n",
       "    <tr style=\"text-align: right;\">\n",
       "      <th></th>\n",
       "      <th>word</th>\n",
       "      <th>count</th>\n",
       "    </tr>\n",
       "  </thead>\n",
       "  <tbody>\n",
       "    <tr>\n",
       "      <th>0</th>\n",
       "      <td>côtedivoire</td>\n",
       "      <td>1</td>\n",
       "    </tr>\n",
       "    <tr>\n",
       "      <th>1</th>\n",
       "      <td>equipedefrance</td>\n",
       "      <td>1</td>\n",
       "    </tr>\n",
       "    <tr>\n",
       "      <th>2</th>\n",
       "      <td>リンクルショット</td>\n",
       "      <td>1</td>\n",
       "    </tr>\n",
       "    <tr>\n",
       "      <th>3</th>\n",
       "      <td>これぞクラフトビール</td>\n",
       "      <td>1</td>\n",
       "    </tr>\n",
       "    <tr>\n",
       "      <th>4</th>\n",
       "      <td>ss_pw</td>\n",
       "      <td>1</td>\n",
       "    </tr>\n",
       "    <tr>\n",
       "      <th>5</th>\n",
       "      <td>olympics</td>\n",
       "      <td>1</td>\n",
       "    </tr>\n",
       "    <tr>\n",
       "      <th>6</th>\n",
       "      <td>teamusa</td>\n",
       "      <td>1</td>\n",
       "    </tr>\n",
       "    <tr>\n",
       "      <th>7</th>\n",
       "      <td>jeuxolympiques</td>\n",
       "      <td>1</td>\n",
       "    </tr>\n",
       "    <tr>\n",
       "      <th>8</th>\n",
       "      <td>リンクルショットアンケート</td>\n",
       "      <td>1</td>\n",
       "    </tr>\n",
       "    <tr>\n",
       "      <th>9</th>\n",
       "      <td>スプリングバレー</td>\n",
       "      <td>1</td>\n",
       "    </tr>\n",
       "    <tr>\n",
       "      <th>10</th>\n",
       "      <td>teamリンクル</td>\n",
       "      <td>1</td>\n",
       "    </tr>\n",
       "    <tr>\n",
       "      <th>11</th>\n",
       "      <td>aggiesintokyo</td>\n",
       "      <td>1</td>\n",
       "    </tr>\n",
       "    <tr>\n",
       "      <th>12</th>\n",
       "      <td>acentodiario</td>\n",
       "      <td>1</td>\n",
       "    </tr>\n",
       "  </tbody>\n",
       "</table>\n",
       "</div>"
      ],
      "text/plain": [
       "              word  count\n",
       "0      côtedivoire      1\n",
       "1   equipedefrance      1\n",
       "2         リンクルショット      1\n",
       "3       これぞクラフトビール      1\n",
       "4            ss_pw      1\n",
       "5         olympics      1\n",
       "6          teamusa      1\n",
       "7   jeuxolympiques      1\n",
       "8    リンクルショットアンケート      1\n",
       "9         スプリングバレー      1\n",
       "10        teamリンクル      1\n",
       "11   aggiesintokyo      1\n",
       "12    acentodiario      1"
      ]
     },
     "metadata": {},
     "output_type": "display_data"
    }
   ],
   "source": [
    "#display the word and count\n",
    "display(spark.sql(f\"SELECT * from {query.name}\").toPandas())"
   ]
  },
  {
   "cell_type": "code",
   "execution_count": 217,
   "metadata": {},
   "outputs": [
    {
     "name": "stdout",
     "output_type": "stream",
     "text": [
      "Live view ended...\n"
     ]
    }
   ],
   "source": [
    "# show live results for 2 minutes, refreshed every 2 second\n",
    "from time import sleep\n",
    "for x in range(0, 120):\n",
    "    # use spark.sql to get the top 20 words by count\n",
    "    top20_df = spark.sql(f\"\"\"SELECT word, count\n",
    "                       FROM {query.name}\n",
    "                       WHERE word != ' '\n",
    "                       ORDER BY count DESC, word ASC\n",
    "                       LIMIT 20\n",
    "                        \"\"\"\n",
    "                        )\n",
    "    #display a seaborn plot of the top 20 words\n",
    "    display_barplot(top20_df, x='word', y='count', time=query.lastProgress['timestamp'][0:10])\n",
    "    \n",
    "    #break for 2 seconds before showing the next plot\n",
    "    sleep(2)\n",
    "    clear_output(wait=True)\n",
    "else:\n",
    "    print(\"Live view ended...\")"
   ]
  },
  {
   "cell_type": "code",
   "execution_count": 206,
   "metadata": {},
   "outputs": [],
   "source": [
    "#stops the query \n",
    "query.stop()"
   ]
  },
  {
   "cell_type": "code",
   "execution_count": 207,
   "metadata": {},
   "outputs": [],
   "source": [
    "#stops the spark program\n",
    "spark.stop()"
   ]
  }
 ],
 "metadata": {
  "kernelspec": {
   "display_name": "Python 3",
   "language": "python",
   "name": "python3"
  },
  "language_info": {
   "codemirror_mode": {
    "name": "ipython",
    "version": 3
   },
   "file_extension": ".py",
   "mimetype": "text/x-python",
   "name": "python",
   "nbconvert_exporter": "python",
   "pygments_lexer": "ipython3",
   "version": "3.8.5"
  }
 },
 "nbformat": 4,
 "nbformat_minor": 4
}
